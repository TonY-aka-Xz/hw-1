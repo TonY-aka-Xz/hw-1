{
 "cells": [
  {
   "cell_type": "markdown",
   "metadata": {},
   "source": [
    "**Задание 1**. Даны 2 строки: *long_phrase* и *short_phrase*. \n",
    "Напишите код, который проверяет действительно ли длинная фраза *long_phrase* длиннее короткой *short_phrase*. И выводит *True* или *False* в зависимости от результата сравнения."
   ]
  },
  {
   "cell_type": "code",
   "execution_count": 3,
   "metadata": {},
   "outputs": [
    {
     "data": {
      "text/plain": [
       "True"
      ]
     },
     "execution_count": 3,
     "metadata": {},
     "output_type": "execute_result"
    }
   ],
   "source": [
    "long_phrase = 'Насколько проще было бы писать программы, если бы не заказчики'\n",
    "short_phrase = '640Кб должно хватить для любых задач. Билл Гейтс (по легенде)'\n",
    "\n",
    "len(long_phrase) > len(short_phrase)\n"
   ]
  },
  {
   "cell_type": "code",
   "execution_count": null,
   "metadata": {},
   "outputs": [],
   "source": []
  },
  {
   "cell_type": "markdown",
   "metadata": {},
   "source": [
    "**Задание 2**. Дано значение объема файла в байтах. Напишите перевод этого значения в мегабайты в формате: \"*Объем файла равен 213.68Mb*\""
   ]
  },
  {
   "cell_type": "code",
   "execution_count": 4,
   "metadata": {},
   "outputs": [
    {
     "name": "stdout",
     "output_type": "stream",
     "text": [
      "Введи кол-во байт: 22222\n",
      "Объем файла равен 0.02Mb\n"
     ]
    }
   ],
   "source": [
    "byte = int(input(\"Введи кол-во байт: \"))\n",
    "mb = byte / 1048576\n",
    "mb = round(mb, 2)\n",
    "print(\"Объем файла равен {}Mb\".format(mb))"
   ]
  },
  {
   "cell_type": "markdown",
   "metadata": {},
   "source": [
    "**Задание 3**. Разработать приложение для определения знака зодиака по дате рождения. Пример:\n",
    "\n",
    "Введите месяц: март\n",
    "\n",
    "Введите число: 6\n",
    "\n",
    "Вывод:\n",
    "Рыбы"
   ]
  },
  {
   "cell_type": "code",
   "execution_count": 6,
   "metadata": {},
   "outputs": [
    {
     "name": "stdout",
     "output_type": "stream",
     "text": [
      "Введите месяц: март\n",
      "Введите число: 3\n",
      "Рыбы\n"
     ]
    }
   ],
   "source": [
    "\"\"\"\n",
    "Легенда:\n",
    "с 21 марта по 20 апреля  Овен +\n",
    "с 21 апреля по 20 мая Телец \n",
    "с 21 мая по 21 июня Близнецы\n",
    "с 22 июня по 22 июля Рак\n",
    "с 23 июля по 23 августа Лев\n",
    "с 24 августа по 23 сентября Дева\n",
    "с 24 сентября по 23 октября Весы\n",
    "с 24 октября по 22 ноября Скорпион\n",
    "с 23 ноября по 21 декабря Стрелец\n",
    "с 22 декабря по 20 января Козерог\n",
    "с 21 января по 20 февраля Водолей\n",
    "с 21 февраля по 20 марта Рыбы\n",
    "взято с http://zodiastro.ru/znaki-zodiaka-datyi-znakov-zodiaka.html\n",
    "\"\"\"\n",
    "\n",
    "month = str.lower(input(\"Введите месяц: \"))\n",
    "date = int(input(\"Введите число: \"))\n",
    "def error_date():\n",
    "    print(\"ЭХ! Вот бы столько выходных!\")\n",
    "\n",
    "if date > 31:\n",
    "    error_date()\n",
    "elif date == 0:\n",
    "    print(\"Прям как у меня рабочих дней!\")\n",
    "elif ((month == \"март\" and date >= 21)or (month == \"апрель\" and date <= 20)):\n",
    "    print(\"Овен\")\n",
    "elif ((month == \"апрель\" and date >= 21)or (month == \"май\" and date <= 20)):\n",
    "    if date == 31:\n",
    "        error_date()\n",
    "    else:\n",
    "        print(\"Телец\")\n",
    "elif ((month == \"май\" and date >= 21)or (month == \"июнь\" and date <= 21)):\n",
    "    print(\"Близнецы\")\n",
    "elif ((month == \"июнь\" and date >= 22)or (month == \"июнь\" and date <= 22)):\n",
    "    if date == 31:\n",
    "        error_date()\n",
    "    else:\n",
    "        print(\"Рак\")\n",
    "elif ((month == \"июль\" and date >= 23)or(month == \"август\" and date <= 23)):\n",
    "    print(\"Лев\")\n",
    "elif ((month == \"август\" and date >= 24)or(month == \"сентябрь\" and date <= 23)):\n",
    "    print(\"Дева\")\n",
    "elif ((month == \"сентябрь\" and date >= 24)or(month == \"октябрь\" and date <= 23)):\n",
    "    if date == 31:\n",
    "        error_date()\n",
    "    else:\n",
    "        print(\"Весы\")\n",
    "elif ((month == \"октябрь\" and date >= 24)or(month == \"ноябрь\" and date <= 22)):\n",
    "    print(\"Скорпион\")\n",
    "elif ((month == \"ноябрь\" and date >= 23)or(month == \"декабрь\" and date <= 21)):\n",
    "    if date == 31:\n",
    "        error_date()\n",
    "    else:\n",
    "        print(\"Стрелец\")\n",
    "elif ((month == \"декабрь\" and date >= 22)or(month == \"январь\" and date <= 20)):\n",
    "    print(\"Козерог\")\n",
    "elif ((month == \"январь\" and date >= 21)or(month == \"февраль\" and date <= 20)):\n",
    "    print(\"Водолей\")\n",
    "elif ((month == \"февраль\" and date >= 21)or(month == \"март\" and date <= 20)):\n",
    "    if date > 28:\n",
    "        error_date()\n",
    "    else:\n",
    "        print(\"Рыбы\")"
   ]
  },
  {
   "cell_type": "markdown",
   "metadata": {},
   "source": [
    "**Задание 4**. Нужно разработать приложение для финансового планирования.\n",
    "Приложение учитывает сколько уходит на ипотеку, \"на жизнь\" и сколько нужно отложить на пенсию.\n",
    "Пользователь вводит:\n",
    "- заработанную плату в месяц.\n",
    "- сколько процентов от ЗП уходит на ипотеку.\n",
    "- сколько процентов от ЗП уходит \"на жизнь\".\n",
    "- сколько раз приходит премия в год.\n",
    "\n",
    "Остальная часть заработанной платы откладывается на пенсию.\n",
    "\n",
    "Также пользователю приходит премия в размере зарплаты, от которой половина уходит на отпуск, а вторая половина откладывается.\n",
    "\n",
    "Программа должна учитывать сколько премий было в год.\n",
    "\n",
    "Нужно вывести сколько денег тратит пользователь на ипотеку и сколько он накопит за год.\n",
    "\n",
    "Пример:\n",
    "\n",
    "Введите заработанную плату в месяц: 100000\n",
    "\n",
    "Введите сколько процентов уходит на ипотеку: 30\n",
    "\n",
    "Введите сколько процентов уходит на жизнь: 50\n",
    "\n",
    "Введите количество премий за год: 2\n",
    "\n",
    "Вывод:\n",
    "На ипотеку было потрачено: 360000 рублей\n",
    "Было накоплено: 340000 рублей"
   ]
  },
  {
   "cell_type": "code",
   "execution_count": 9,
   "metadata": {},
   "outputs": [
    {
     "name": "stdout",
     "output_type": "stream",
     "text": [
      "Введите заработанную плату в месяц: 11111111\n",
      "Введите сколько процентов уходит на ипотеку 11\n",
      "Введите сколько процентов уходит на жизнь: 20\n",
      "Введите количество премий за год: 2\n",
      "На ипотеку было потрачено: 14666667.0\n",
      "Было накоплено: 103111110.0\n"
     ]
    }
   ],
   "source": [
    "wage = int(input(\"Введите заработанную плату в месяц: \"))\n",
    "mortgage = int(input(\"Введите сколько процентов уходит на ипотеку \"))\n",
    "mortgage = mortgage * wage / 100\n",
    "life = int(input(\"Введите сколько процентов уходит на жизнь: \"))\n",
    "life = life * wage / 100\n",
    "premium = int(input(\"Введите количество премий за год: \"))\n",
    "premium = premium * wage / 2\n",
    "\n",
    "\n",
    "mortgage_per_year = mortgage * 12\n",
    "mortgage_per_year = round(mortgage_per_year, 0)\n",
    "accumulation = (wage - mortgage - life) * 12 + premium\n",
    "accumulation = round(accumulation, 0)\n",
    "\n",
    "print(\"На ипотеку было потрачено: {}\".format(mortgage_per_year))\n",
    "print(\"Было накоплено: {}\".format(accumulation))"
   ]
  },
  {
   "cell_type": "code",
   "execution_count": null,
   "metadata": {},
   "outputs": [],
   "source": []
  }
 ],
 "metadata": {
  "kernelspec": {
   "display_name": "Python 3",
   "language": "python",
   "name": "python3"
  },
  "language_info": {
   "codemirror_mode": {
    "name": "ipython",
    "version": 3
   },
   "file_extension": ".py",
   "mimetype": "text/x-python",
   "name": "python",
   "nbconvert_exporter": "python",
   "pygments_lexer": "ipython3",
   "version": "3.7.4"
  }
 },
 "nbformat": 4,
 "nbformat_minor": 2
}
